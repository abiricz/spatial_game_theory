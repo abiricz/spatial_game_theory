{
 "cells": [
  {
   "cell_type": "code",
   "execution_count": null,
   "metadata": {},
   "outputs": [],
   "source": [
    "import numpy as np\n",
    "import pandas as pd\n",
    "import matplotlib.pyplot as plt\n",
    "from tqdm import tqdm"
   ]
  },
  {
   "cell_type": "markdown",
   "metadata": {},
   "source": [
    "### Héja-galamb játék kétdimenziós négyzetrácson"
   ]
  },
  {
   "cell_type": "markdown",
   "metadata": {},
   "source": [
    "#### Játék alapjai:\n",
    "- négyzetrács elkészítése\n",
    "- adott rácspont szomszédainak keresése\n",
    "- adott rácspontban levő egyed lehetséges stratégiáinak kifizetési értékeinek számolása, majd innen megadható, hogy melyik stratégia öröklődik\n",
    "- játék indítása megválasztott kezdeti feltételből\n",
    "- játék iterálása, érdekes paraméterek mentése"
   ]
  },
  {
   "cell_type": "markdown",
   "metadata": {},
   "source": [
    "#### Paraméterek:\n",
    "- kezdetben H és D stratégiák azonos arányban vannak, véletlenszerű eloszlással\n",
    "- rács mérete 70x70\n",
    "- a szimuláció időtartama 175 generáció minden $\\beta$ paraméter mellett\n",
    "- utolsó 25 generáció ábrázolása"
   ]
  },
  {
   "cell_type": "code",
   "execution_count": null,
   "metadata": {},
   "outputs": [],
   "source": [
    "def moore_neighbourhood( x, y, size_x, size_y ):\n",
    "    \"\"\"\n",
    "    Moore szomszédság indexeit adja vissza periodikus határfeltétellel.\n",
    "    https://mathworld.wolfram.com/MooreNeighborhood.html\n",
    "    \n",
    "    Paraméterek:\n",
    "    -x: a szimulációs tábla indexe (koordinátája) az x tengelyen,\n",
    "    -y: a szimulációs tábla indexe (koordinátája) az y tengelyen,\n",
    "    -size_x: a szimulációs tábla mérete x irányban,\n",
    "    -size_y: a szimulációs tábla mérete y irányban.\n",
    "    \"\"\"\n",
    "    current = np.array( [ [x, y] ] )\n",
    "    neigh_idxs = np.array( [ [ x-1, y+1 ], [ x, y+1 ], [ x+1, y+1 ],\n",
    "                           [ x-1, y ], [ x+1, y ],\n",
    "                           [ x-1, y-1], [ x, y-1 ], [ x+1, y-1 ] ] )\n",
    "    neigh_idxs[:,0] %= size_x\n",
    "    neigh_idxs[:,1] %= size_y    \n",
    "\n",
    "    return current, neigh_idxs"
   ]
  },
  {
   "cell_type": "code",
   "execution_count": null,
   "metadata": {},
   "outputs": [],
   "source": [
    "def von_neumann_neighbourhood( x, y, size_x, size_y ):\n",
    "    \"\"\"\n",
    "    Von Neumann szomszédság indexeit adja vissza periodikus határfeltétellel.\n",
    "    https://mathworld.wolfram.com/vonNeumannNeighborhood.html\n",
    "    \n",
    "    Paraméterek:\n",
    "    -x: a szimulációs tábla indexe (koordinátája) az x tengelyen,\n",
    "    -y: a szimulációs tábla indexe (koordinátája) az y tengelyen,\n",
    "    -size_x: a szimulációs tábla mérete x irányban,\n",
    "    -size_y: a szimulációs tábla mérete y irányban.\n",
    "    \"\"\"\n",
    "    current = np.array( [ [x, y] ] )\n",
    "    neigh_idxs = np.array( [ [ x, y+1 ],\n",
    "                           [ x-1, y ], [ x+1, y ],\n",
    "                           [ x, y-1 ] ] )\n",
    "    neigh_idxs[:,0] %= size_x\n",
    "    neigh_idxs[:,1] %= size_y\n",
    "    return current, neigh_idxs"
   ]
  },
  {
   "cell_type": "code",
   "execution_count": null,
   "metadata": {},
   "outputs": [],
   "source": [
    "def generate_table( size_x, size_y, num_strats=2 ):\n",
    "    \"\"\"\n",
    "    Stratégiák kódolása:\n",
    "        0: héja,\n",
    "        1: galamb,\n",
    "        \n",
    "    Paraméterek:\n",
    "    -size_x: a szimulációs tábla mérete x irányban,\n",
    "    -size_y: a szimulációs tábla mérete y irányban,\n",
    "    -num_strats: különböző stratégiák száma a játékban.\n",
    "    \"\"\"\n",
    "    table = np.zeros( (size_x*size_y), dtype=int )\n",
    "    np.random.seed(0)\n",
    "    rnd_idxs = np.random.permutation( size_x*size_y )\n",
    "    for i in range( num_strats ):\n",
    "        table[ rnd_idxs[i::num_strats] ] = i\n",
    "    return table.reshape( size_x, size_y )"
   ]
  },
  {
   "cell_type": "code",
   "execution_count": null,
   "metadata": {},
   "outputs": [],
   "source": [
    "def iterate( table, payoff_mat, neighbourhood_func ):\n",
    "    \"\"\"\n",
    "    Következő generációba lépteti a táblát.\n",
    "    \n",
    "    Paraméterek:\n",
    "    -table: a szimulációs tábla (négyzetrács),\n",
    "    -payoff_mat: a szimulációban szereplő kifizetési mátrix,\n",
    "    -neighbourhood_func: szomszédságot definiáló függvény\n",
    "                        (jelenleg Moore vagy Von-Neumann)    \n",
    "    \"\"\"\n",
    "    table_s = np.zeros( table.shape, dtype=np.float64 )\n",
    "    table_new = np.zeros( table.shape, dtype=int )\n",
    "    \n",
    "    for i in range( table.shape[0] ):\n",
    "        for j in range( table.shape[1] ):\n",
    "            current, neighs = neighbourhood_func(i, j, table.shape[0], table.shape[1] ) # indexek\n",
    "            \n",
    "            current_strat = table[ current[0,0], current[0,1] ] \n",
    "            neighs_strat = table[ neighs[:,0], neighs[:,1] ] # héja 0, galamb 1, egyéb..\n",
    "            \n",
    "            current_s_value = 0\n",
    "            for k in range( neighs_strat.shape[0] ): # szomszédok\n",
    "                table_s[i,j] += payoff_mat[ current_strat, neighs_strat[k] ]\n",
    "    \n",
    "    for i in range( table.shape[0] ):\n",
    "        for j in range( table.shape[1] ):\n",
    "            \n",
    "            # mostani és szomszédainak koordinátái:\n",
    "            current, neighs = neighbourhood_func(i, j, table.shape[0], table.shape[1] )\n",
    "            \n",
    "            # összes szomszéd és saját koordináták:\n",
    "            all_neighs = np.concatenate( (current, neighs), axis=0 )\n",
    "            # összes szomszédok és saját fitnesz értékek:\n",
    "            neighs_s = table_s[ all_neighs[:,0], all_neighs[:,1] ]\n",
    "            \n",
    "            max_val = np.max( neighs_s ) # maximum fitnesz érték\n",
    "            max_idx = np.argwhere( np.isclose(neighs_s, max_val) ).flatten() # hányszor fordul elő\n",
    "            rnd_idx = np.random.permutation( max_idx.shape[0] )[0] # random választás\n",
    "            max_idx_chosen = max_idx[ rnd_idx ]\n",
    "            \n",
    "            local_max_s_coords = all_neighs[ max_idx_chosen ] # max s szomszéd koordinátája\n",
    "            table_new[i,j] = table[ local_max_s_coords[0], local_max_s_coords[1] ]\n",
    "    \n",
    "    return table_new"
   ]
  },
  {
   "cell_type": "markdown",
   "metadata": {},
   "source": [
    "#### Szomszédságkereső függvények tesztelése (periodikus határfeltétellel)"
   ]
  },
  {
   "cell_type": "markdown",
   "metadata": {},
   "source": [
    "##### Von-Neumann szomszédság a (0,0) elem esetében"
   ]
  },
  {
   "cell_type": "code",
   "execution_count": null,
   "metadata": {},
   "outputs": [],
   "source": [
    "table = generate_table( 10, 10 )\n",
    "plt.figure()\n",
    "plt.pcolormesh( table )\n",
    "current, neighs = von_neumann_neighbourhood( 0, 0, table.shape[0], table.shape[1] )\n",
    "table[ neighs[:,0], neighs[:,1] ] = 2\n",
    "plt.figure()\n",
    "plt.pcolormesh( table )"
   ]
  },
  {
   "cell_type": "markdown",
   "metadata": {},
   "source": [
    "##### Moore szomszédság a (9,9) elem esetében."
   ]
  },
  {
   "cell_type": "code",
   "execution_count": null,
   "metadata": {},
   "outputs": [],
   "source": [
    "table = generate_table( 10, 10 )\n",
    "plt.figure()\n",
    "plt.pcolormesh( table )\n",
    "current, neighs = moore_neighbourhood( 9, 9, table.shape[0], table.shape[1] )\n",
    "table[ neighs[:,0], neighs[:,1] ] = 2\n",
    "plt.figure()\n",
    "plt.pcolormesh( table )"
   ]
  },
  {
   "cell_type": "markdown",
   "metadata": {},
   "source": [
    "#### Játék!"
   ]
  },
  {
   "cell_type": "markdown",
   "metadata": {},
   "source": [
    "##### beta értékek listája, melyeknél fut a szimuláció"
   ]
  },
  {
   "cell_type": "code",
   "execution_count": null,
   "metadata": {
    "scrolled": true
   },
   "outputs": [],
   "source": [
    "beta_list = np.array( [ 0.9, 1.0, 1.05, 1.1, 1.15, 1.2, 1.25, 1.3, 1.35, 1.4,\n",
    "                        1.45, 1.5, 1.55, 1.6, 1.65, 1.7, 1.75, 1.8,\n",
    "                        1.85, 1.9, 1.95, 2.0, 2.1, 2.2, 2.3, 2.5, 2.7, 3.0 ] )\n",
    "beta_list"
   ]
  },
  {
   "cell_type": "markdown",
   "metadata": {},
   "source": [
    "##### játéktáblák mentése"
   ]
  },
  {
   "cell_type": "code",
   "execution_count": null,
   "metadata": {},
   "outputs": [],
   "source": [
    "table_m = []\n",
    "for m in tqdm( range( beta_list.shape[0] ) ):\n",
    "    table_all = []\n",
    "\n",
    "    table = generate_table( 70, 70 ) # tábla\n",
    "    beta = beta_list[m] # C/V paraméter\n",
    "    payoff = np.array( [ [1-beta, 2], [0, 1] ] ) # kifizetési mátrix\n",
    "    table_all.append( np.copy(table) ) # kezdeti állapot mentése\n",
    "\n",
    "    for n in range( 175 ):\n",
    "        table = iterate( table, payoff, moore_neighbourhood )\n",
    "        table_all.append( np.copy(table) )\n",
    "    table_m.append( np.array( table_all ) )\n",
    "table_m = np.concatenate( np.expand_dims(table_m, axis=0) )\n",
    "table_m.shape"
   ]
  },
  {
   "cell_type": "markdown",
   "metadata": {},
   "source": [
    "##### ábrázolás"
   ]
  },
  {
   "cell_type": "code",
   "execution_count": null,
   "metadata": {},
   "outputs": [],
   "source": [
    "hawk_fractions = np.zeros( (beta_list.shape[0], 25), dtype=np.float64 )\n",
    "for k in range( beta_list.shape[0] ):\n",
    "    for l in range( 1, 26 ):\n",
    "        uniq, counts = np.unique( table_m[k][-l], return_counts=True )\n",
    "        hawk_fractions[k, l-1] = counts[0] / counts.sum()"
   ]
  },
  {
   "cell_type": "code",
   "execution_count": null,
   "metadata": {
    "scrolled": false
   },
   "outputs": [],
   "source": [
    "plt.figure( figsize=(10,6), dpi=100 )\n",
    "plt.scatter( np.ones(25)*beta_list[0], hawk_fractions[0], c='k', s=10, label='térbeli' )    \n",
    "for k in range( 1, beta_list.shape[0] ):\n",
    "    plt.scatter( np.ones(25)*beta_list[k], hawk_fractions[k], c='k', s=15, )\n",
    "    \n",
    "classic_result = np.ones( beta_list.shape )\n",
    "classic_result[ beta_list > 1 ] = 1/beta_list[ beta_list > 1 ]\n",
    "plt.scatter( beta_list, classic_result, c='maroon', s=10, marker='x', label='klasszikus' )\n",
    "\n",
    "plt.vlines( x=9/7, ymin=0.2, ymax=1.0, colors='forestgreen', linestyles='dashed', \n",
    "            label='1. fázisátalakulás' )\n",
    "plt.vlines( x=5/3, ymin=0.2, ymax=1.0, colors='navy', linestyles='dashed',\n",
    "           label='2. fázisátalakulás' )\n",
    "plt.vlines( x=2.0, ymin=0.2, ymax=1.0, colors='blue', linestyles='dashed',\n",
    "           label='3. fázisátalakulás' )\n",
    "\n",
    "plt.xlabel(r'$ \\beta $', fontsize=22)\n",
    "plt.ylabel(\"Héja stratégiák aránya\", fontsize=22)\n",
    "plt.tick_params( labelsize=18 )\n",
    "plt.legend()\n",
    "plt.savefig('heja_galamb_Moore.png', dpi=100)"
   ]
  },
  {
   "cell_type": "markdown",
   "metadata": {},
   "source": [
    "#### Von-Neumann szomszédsággal"
   ]
  },
  {
   "cell_type": "code",
   "execution_count": null,
   "metadata": {},
   "outputs": [],
   "source": [
    "table_m = []\n",
    "for m in tqdm( range( beta_list.shape[0] ) ):\n",
    "    table_all = []\n",
    "\n",
    "    table = generate_table( 70, 70 ) # tábla\n",
    "    beta = beta_list[m] # C/V paraméter\n",
    "    payoff = np.array( [ [1-beta, 2], [0, 1] ] ) # kifizetési mátrix\n",
    "    table_all.append( np.copy(table) ) # kezdeti állapot mentése\n",
    "\n",
    "    for n in range( 175 ):\n",
    "        table = iterate( table, payoff, von_neumann_neighbourhood )\n",
    "        table_all.append( np.copy(table) )\n",
    "    table_m.append( np.array( table_all ) )\n",
    "table_m = np.concatenate( np.expand_dims(table_m, axis=0) )\n",
    "table_m.shape"
   ]
  },
  {
   "cell_type": "code",
   "execution_count": null,
   "metadata": {},
   "outputs": [],
   "source": [
    "hawk_fractions = np.zeros( (beta_list.shape[0], 25), dtype=np.float64 )\n",
    "for k in range( beta_list.shape[0] ):\n",
    "    for l in range( 1, 26 ):\n",
    "        uniq, counts = np.unique( table_m[k][-l], return_counts=True )\n",
    "        hawk_fractions[k, l-1] = counts[0] / counts.sum()"
   ]
  },
  {
   "cell_type": "code",
   "execution_count": null,
   "metadata": {},
   "outputs": [],
   "source": [
    "plt.figure( figsize=(10,6), dpi=100 )\n",
    "plt.scatter( np.ones(25)*beta_list[0], hawk_fractions[0], c='k', s=10, label='térbeli' )    \n",
    "for k in range( 1, beta_list.shape[0] ):\n",
    "    plt.scatter( np.ones(25)*beta_list[k], hawk_fractions[k], c='k', s=15, )\n",
    "    \n",
    "classic_result = np.ones( beta_list.shape )\n",
    "classic_result[ beta_list > 1 ] = 1/beta_list[ beta_list > 1 ]\n",
    "plt.scatter( beta_list, classic_result, c='maroon', s=10, marker='x', label='klasszikus' )\n",
    "\n",
    "plt.vlines( x=1.025, ymin=0.2, ymax=1.0, colors='forestgreen', linestyles='dashed', \n",
    "            label='1. fázisátalakulás' )\n",
    "plt.vlines( x=1.325, ymin=0.2, ymax=1.0, colors='navy', linestyles='dashed',\n",
    "           label='2. fázisátalakulás' )\n",
    "plt.vlines( x=1.675, ymin=0.2, ymax=1.0, colors='blue', linestyles='dashed',\n",
    "           label='3. fázisátalakulás' )\n",
    "\n",
    "plt.xlabel(r'$ \\beta $', fontsize=22)\n",
    "plt.ylabel(\"Héja stratégiák aránya\", fontsize=22)\n",
    "plt.tick_params( labelsize=18 )\n",
    "plt.legend()\n",
    "plt.savefig('heja_galamb_vonN.png', dpi=100)"
   ]
  },
  {
   "cell_type": "markdown",
   "metadata": {},
   "source": [
    "#### Keverés minden generációban"
   ]
  },
  {
   "cell_type": "code",
   "execution_count": null,
   "metadata": {},
   "outputs": [],
   "source": [
    "table_m = []\n",
    "for m in tqdm( range( beta_list.shape[0] ) ):\n",
    "    table_all = []\n",
    "    \n",
    "    table = generate_table( 70, 70 ) # tábla\n",
    "    beta = beta_list[m] # C/V paraméter\n",
    "    payoff = np.array( [ [1-beta, 2], [0, 1] ] ) # kifizetési mátrix\n",
    "    table_all.append( np.copy(table) ) # kezdeti állapot mentése\n",
    "\n",
    "    for n in range( 175 ):\n",
    "        table = iterate( table, payoff, moore_neighbourhood )\n",
    "        np.random.seed(n)\n",
    "        shuffle_idx = np.random.permutation( table.flatten().shape[0] )\n",
    "        table = np.copy(table.flatten())[shuffle_idx].reshape( table.shape[0], table.shape[1] )\n",
    "        table_all.append( np.copy(table) )\n",
    "    table_m.append( np.array( table_all ) )\n",
    "table_m = np.concatenate( np.expand_dims(table_m, axis=0) )\n",
    "table_m.shape"
   ]
  },
  {
   "cell_type": "code",
   "execution_count": null,
   "metadata": {},
   "outputs": [],
   "source": [
    "hawk_fractions = np.zeros( (beta_list.shape[0], 25), dtype=np.float64 )\n",
    "for k in range( beta_list.shape[0] ):\n",
    "    for l in range( 1, 26 ):\n",
    "        uniq, counts = np.unique( table_m[k][-l], return_counts=True )\n",
    "        hawk_fractions[k, l-1] = counts[0] / counts.sum()"
   ]
  },
  {
   "cell_type": "code",
   "execution_count": null,
   "metadata": {},
   "outputs": [],
   "source": [
    "plt.figure( figsize=(10,6), dpi=100 )\n",
    "plt.scatter( np.ones(25)*beta_list[0], hawk_fractions[0], c='k', s=10, label='térbeli' )    \n",
    "for k in range( 1, beta_list.shape[0] ):\n",
    "    plt.scatter( np.ones(25)*beta_list[k], hawk_fractions[k], c='k', s=10, )\n",
    "    \n",
    "classic_result = np.ones( beta_list.shape )\n",
    "classic_result[ beta_list > 1 ] = 1/beta_list[ beta_list > 1 ]\n",
    "plt.scatter( beta_list, classic_result, c='maroon', s=10, marker='x', label='klasszikus' )\n",
    "\n",
    "plt.xlabel(r'$ \\beta $', fontsize=22)\n",
    "plt.ylabel(\"Héja stratégiák aránya\", fontsize=22)\n",
    "plt.tick_params( labelsize=18 )\n",
    "plt.legend()\n",
    "plt.savefig('heja_galamb_kevert_Moore.png', dpi=100)"
   ]
  },
  {
   "cell_type": "markdown",
   "metadata": {},
   "source": [
    "#### Von-Neumann szomszédsággal"
   ]
  },
  {
   "cell_type": "code",
   "execution_count": null,
   "metadata": {},
   "outputs": [],
   "source": [
    "table_m = []\n",
    "for m in tqdm( range( beta_list.shape[0] ) ):\n",
    "    table_all = []\n",
    "    \n",
    "    table = generate_table( 70, 70 ) # tábla\n",
    "    beta = beta_list[m] # C/V paraméter\n",
    "    payoff = np.array( [ [1-beta, 2], [0, 1] ] ) # kifizetési mátrix\n",
    "    table_all.append( np.copy(table) ) # kezdeti állapot mentése\n",
    "\n",
    "    for n in range( 175 ):\n",
    "        table = iterate( table, payoff, von_neumann_neighbourhood )\n",
    "        np.random.seed(n)\n",
    "        shuffle_idx = np.random.permutation( table.flatten().shape[0] )\n",
    "        table = np.copy(table.flatten())[shuffle_idx].reshape( table.shape[0], table.shape[1] )\n",
    "        table_all.append( np.copy(table) )\n",
    "    table_m.append( np.array( table_all ) )\n",
    "table_m = np.concatenate( np.expand_dims(table_m, axis=0) )\n",
    "table_m.shape"
   ]
  },
  {
   "cell_type": "code",
   "execution_count": null,
   "metadata": {},
   "outputs": [],
   "source": [
    "hawk_fractions = np.zeros( (beta_list.shape[0], 25), dtype=np.float64 )\n",
    "for k in range( beta_list.shape[0] ):\n",
    "    for l in range( 1, 26 ):\n",
    "        uniq, counts = np.unique( table_m[k][-l], return_counts=True )\n",
    "        hawk_fractions[k, l-1] = counts[0] / counts.sum()"
   ]
  },
  {
   "cell_type": "code",
   "execution_count": null,
   "metadata": {},
   "outputs": [],
   "source": [
    "plt.figure( figsize=(10,6), dpi=100 )\n",
    "plt.scatter( np.ones(25)*beta_list[0], hawk_fractions[0], c='k', s=10, label='térbeli' )    \n",
    "for k in range( 1, beta_list.shape[0] ):\n",
    "    plt.scatter( np.ones(25)*beta_list[k], hawk_fractions[k], c='k', s=10, )\n",
    "    \n",
    "classic_result = np.ones( beta_list.shape )\n",
    "classic_result[ beta_list > 1 ] = 1/beta_list[ beta_list > 1 ]\n",
    "plt.scatter( beta_list, classic_result, c='maroon', s=10, marker='x', label='klasszikus' )\n",
    "\n",
    "plt.xlabel(r'$ \\beta $', fontsize=22)\n",
    "plt.ylabel(\"Héja stratégiák aránya\", fontsize=22)\n",
    "plt.tick_params( labelsize=18 )\n",
    "plt.legend()\n",
    "plt.savefig('heja_galamb_kevert_vonN.png', dpi=100)"
   ]
  },
  {
   "cell_type": "markdown",
   "metadata": {},
   "source": [
    "### Héja-galamb-megtorló játék kétdimenziós négyzetrácson"
   ]
  },
  {
   "cell_type": "markdown",
   "metadata": {},
   "source": [
    "##### játéktáblák mentése"
   ]
  },
  {
   "cell_type": "code",
   "execution_count": null,
   "metadata": {
    "scrolled": true
   },
   "outputs": [],
   "source": [
    "table_m = []\n",
    "for m in tqdm( range( beta_list.shape[0] ) ):\n",
    "    table_all = []\n",
    "    \n",
    "    table = generate_table( 70, 70, num_strats=3 ) # tábla\n",
    "    beta = beta_list[m] # C/V paraméter\n",
    "    eps = 0.0\n",
    "    payoff = np.array( [ [ 1-beta, 2, 1-beta+eps ], \n",
    "                         [ 0, 1, 1-eps ], \n",
    "                         [ 1-beta-eps, 1+eps, 1 ] ] ) # kifizetési mátrix\n",
    "    table_all.append( np.copy(table) ) # kezdeti állapot mentése\n",
    "\n",
    "    for n in range( 175 ):\n",
    "        table = iterate( table, payoff, moore_neighbourhood )\n",
    "        table_all.append( np.copy(table) )\n",
    "    table_m.append( np.array( table_all ) )\n",
    "table_m = np.concatenate( np.expand_dims(table_m, axis=0) )\n",
    "table_m.shape"
   ]
  },
  {
   "cell_type": "code",
   "execution_count": null,
   "metadata": {},
   "outputs": [],
   "source": [
    "lastnum = 25 # mennyi utolsó generáció legyen az ábrán\n",
    "hawk_fractions = np.zeros( (beta_list.shape[0], lastnum), dtype=np.float64 )\n",
    "dove_fractions = np.zeros( (beta_list.shape[0], lastnum), dtype=np.float64 )\n",
    "revenge_fractions = np.zeros( (beta_list.shape[0], lastnum), dtype=np.float64 )\n",
    "for k in range( beta_list.shape[0] ):\n",
    "    for l in range( 1, lastnum+1 ):\n",
    "        hawk_fractions[k, l-1] = (table_m[k,l] == 0).sum() / (table_m.shape[-2]*table_m.shape[-1])\n",
    "        dove_fractions[k, l-1] = (table_m[k,l] == 1).sum() / (table_m.shape[-2]*table_m.shape[-1])\n",
    "        revenge_fractions[k, l-1] = (table_m[k,l] == 2).sum() / (table_m.shape[-2]*table_m.shape[-1])"
   ]
  },
  {
   "cell_type": "code",
   "execution_count": null,
   "metadata": {
    "scrolled": false
   },
   "outputs": [],
   "source": [
    "plt.figure( figsize=(10,6), dpi=100 )\n",
    "plt.scatter( np.ones(lastnum)*beta_list[0], hawk_fractions[0], c='maroon', s=10, label='Héja' )    \n",
    "for k in range( 1, beta_list.shape[0] ):\n",
    "    plt.scatter( np.ones(lastnum)*beta_list[k], hawk_fractions[k], c='maroon', s=10, )\n",
    "    \n",
    "    \n",
    "plt.scatter( np.ones(lastnum)*beta_list[0], dove_fractions[0], c='navy', s=10, label='Galamb' )    \n",
    "for k in range( 1, beta_list.shape[0] ):\n",
    "    plt.scatter( np.ones(lastnum)*beta_list[k], dove_fractions[k], c='navy', s=10, )\n",
    "\n",
    "plt.scatter( np.ones(lastnum)*beta_list[0], revenge_fractions[0], c='forestgreen', s=10, label='Megtorló' )    \n",
    "for k in range( 1, beta_list.shape[0] ):\n",
    "    plt.scatter( np.ones(lastnum)*beta_list[k], revenge_fractions[k], c='forestgreen', s=10, )\n",
    "    \n",
    "\n",
    "plt.xlabel(r'$ \\beta $', fontsize=22)\n",
    "plt.ylabel(\"Héja stratégiák aránya\", fontsize=22)\n",
    "plt.tick_params( labelsize=18 )\n",
    "plt.legend()\n",
    "plt.savefig('heja_galamb_megtorlo_Moore.png', dpi=100)"
   ]
  },
  {
   "cell_type": "code",
   "execution_count": null,
   "metadata": {},
   "outputs": [],
   "source": [
    "table_m = []\n",
    "for m in tqdm( range( beta_list.shape[0] ) ):\n",
    "    table_all = []\n",
    "    \n",
    "    table = generate_table( 70, 70, num_strats=3 ) # tábla\n",
    "    beta = beta_list[m] # C/V paraméter\n",
    "    eps = 0.0\n",
    "    payoff = np.array( [ [ 1-beta, 2, 1-beta+eps ], \n",
    "                         [ 0, 1, 1-eps ], \n",
    "                         [ 1-beta-eps, 1+eps, 1 ] ] ) # kifizetési mátrix\n",
    "    table_all.append( np.copy(table) ) # kezdeti állapot mentése\n",
    "\n",
    "    for n in range( 175 ):\n",
    "        table = iterate( table, payoff, von_neumann_neighbourhood )\n",
    "        table_all.append( np.copy(table) )\n",
    "    table_m.append( np.array( table_all ) )\n",
    "table_m = np.concatenate( np.expand_dims(table_m, axis=0) )\n",
    "table_m.shape"
   ]
  },
  {
   "cell_type": "code",
   "execution_count": null,
   "metadata": {},
   "outputs": [],
   "source": [
    "lastnum = 25 # mennyi utolsó generáció legyen az ábrán\n",
    "hawk_fractions = np.zeros( (beta_list.shape[0], lastnum), dtype=np.float64 )\n",
    "dove_fractions = np.zeros( (beta_list.shape[0], lastnum), dtype=np.float64 )\n",
    "revenge_fractions = np.zeros( (beta_list.shape[0], lastnum), dtype=np.float64 )\n",
    "for k in range( beta_list.shape[0] ):\n",
    "    for l in range( 1, lastnum+1 ):\n",
    "        hawk_fractions[k, l-1] = (table_m[k,l] == 0).sum() / (table_m.shape[-2]*table_m.shape[-1])\n",
    "        dove_fractions[k, l-1] = (table_m[k,l] == 1).sum() / (table_m.shape[-2]*table_m.shape[-1])\n",
    "        revenge_fractions[k, l-1] = (table_m[k,l] == 2).sum() / (table_m.shape[-2]*table_m.shape[-1])"
   ]
  },
  {
   "cell_type": "code",
   "execution_count": null,
   "metadata": {},
   "outputs": [],
   "source": [
    "plt.figure( figsize=(10,6), dpi=100 )\n",
    "plt.scatter( np.ones(lastnum)*beta_list[0], hawk_fractions[0], c='maroon', s=10, label='Héja' )    \n",
    "for k in range( 1, beta_list.shape[0] ):\n",
    "    plt.scatter( np.ones(lastnum)*beta_list[k], hawk_fractions[k], c='maroon', s=10, )\n",
    "    \n",
    "    \n",
    "plt.scatter( np.ones(lastnum)*beta_list[0], dove_fractions[0], c='navy', s=10, label='Galamb' )    \n",
    "for k in range( 1, beta_list.shape[0] ):\n",
    "    plt.scatter( np.ones(lastnum)*beta_list[k], dove_fractions[k], c='navy', s=10, )\n",
    "\n",
    "plt.scatter( np.ones(lastnum)*beta_list[0], revenge_fractions[0], c='forestgreen', s=10, label='Megtorló' )    \n",
    "for k in range( 1, beta_list.shape[0] ):\n",
    "    plt.scatter( np.ones(lastnum)*beta_list[k], revenge_fractions[k], c='forestgreen', s=10, )\n",
    "    \n",
    "\n",
    "plt.xlabel(r'$ \\beta $', fontsize=22)\n",
    "plt.ylabel(\"Héja stratégiák aránya\", fontsize=22)\n",
    "plt.tick_params( labelsize=18 )\n",
    "plt.legend()\n",
    "plt.savefig('heja_galamb_megtorlo_vonN.png', dpi=100)"
   ]
  }
 ],
 "metadata": {
  "kernelspec": {
   "display_name": "Python 3",
   "language": "python",
   "name": "python3"
  },
  "language_info": {
   "codemirror_mode": {
    "name": "ipython",
    "version": 3
   },
   "file_extension": ".py",
   "mimetype": "text/x-python",
   "name": "python",
   "nbconvert_exporter": "python",
   "pygments_lexer": "ipython3",
   "version": "3.6.9"
  }
 },
 "nbformat": 4,
 "nbformat_minor": 4
}
